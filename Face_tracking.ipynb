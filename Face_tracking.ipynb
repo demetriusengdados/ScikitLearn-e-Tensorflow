{
  "nbformat": 4,
  "nbformat_minor": 0,
  "metadata": {
    "colab": {
      "provenance": []
    },
    "kernelspec": {
      "name": "python3",
      "display_name": "Python 3"
    },
    "language_info": {
      "name": "python"
    }
  },
  "cells": [
    {
      "cell_type": "code",
      "execution_count": 1,
      "metadata": {
        "id": "6gTcXiOifTfH"
      },
      "outputs": [],
      "source": [
        "import cv2\n",
        "from google.colab.patches import cv2_imshow"
      ]
    },
    {
      "cell_type": "code",
      "source": [
        "# Load video\n",
        "vid_location = \"vid.mp4\"\n",
        "cap = cv2.VideoCapture(vid_location)\n",
        "\n",
        "# Load our classifiers\n",
        "face_classifier = cv2.CascadeClassifier(cv2.data.haarcascades + \"haarcascade_frontalface_default.xml\") \n",
        "l_eye_classifier = cv2.CascadeClassifier(cv2.data.haarcascades + \"haarcascade_lefteye_2splits.xml\")\n",
        "r_eye_classifier = cv2.CascadeClassifier(cv2.data.haarcascades + \"haarcascade_righteye_2splits.xml\")\n",
        "smile_classifier = cv2.CascadeClassifier(cv2.data.haarcascades + \"haarcascade_smile.xml\")\n",
        "\n",
        "# Grab the width and height of the input video\n",
        "frame_width = int(cap.get(3))\n",
        "frame_height = int(cap.get(4))\n",
        "\n",
        "# Create the video writer for MP4 format\n",
        "out = cv2.VideoWriter('outpy.mp4',cv2.VideoWriter_fourcc(*'MP4V'), 20.0, (frame_width,frame_height))"
      ],
      "metadata": {
        "id": "vnxsx5kWfnDL"
      },
      "execution_count": 2,
      "outputs": []
    },
    {
      "cell_type": "code",
      "source": [
        "# Iterate while the video lasts\n",
        "while cap.isOpened():\n",
        "\n",
        "  # Read frame's\n",
        "  ret, frame = cap.read()\n",
        "\n",
        "  # Check if the video is still lasting\n",
        "  if ret==True:\n",
        "\n",
        "    # Convert frame to Grayscale\n",
        "    gray = cv2.cvtColor(frame, cv2.COLOR_BGR2GRAY)\n",
        "\n",
        "    # Find faces in that frame\n",
        "    # Parameters \n",
        "    #(1.1 -> scaleFactor : Parameter specifying how much the image size is reduced at each image scale)\n",
        "    #(6 -> minNeighbors : Parameter specifying how many neighbors each candidate rectangle should have to retain it. This parameter will affect the quality of the detected faces)\n",
        "    faces = face_classifier.detectMultiScale(gray, 1.1, 6)\n",
        "    for (x, y, w, h) in faces:\n",
        "      cv2.putText(frame, \"Faces found: \" + str(len(faces)), (30, 30), cv2.FONT_HERSHEY_SIMPLEX, 1, (80, 0, 255), 3)\n",
        "\n",
        "      # Draw a rectangle around the face\n",
        "      cv2.rectangle(frame, (x, y), (x+w, y+h), (0, 0, 255), 2)\n",
        "\n",
        "      # Select the region of the face, both gray and RGB\n",
        "      roi_gray = gray[y:y+h, x:x+w]\n",
        "      roi_color = frame[y:y+h, x:x+w]\n",
        "\n",
        "      # Detect the left eye and draw a circle around it \n",
        "      l_eye = l_eye_classifier.detectMultiScale(roi_gray, 1.1, 10)\n",
        "      for (ex, ey, ew, eh) in l_eye:\n",
        "        cv2.circle(roi_color, ((ex + ex+ew)//2,  (ey + ey+eh)//2), 10, (255, 255, 0), 1)\n",
        "      \n",
        "      # Detect the right eye and draw a cricle around it also\n",
        "      r_eye = r_eye_classifier.detectMultiScale(roi_gray, 1.1, 10)\n",
        "      for (ex, ey, ew, eh) in r_eye:\n",
        "        cv2.circle(roi_color, ((ex + ex+ew)//2,  (ey + ey+eh)//2), 10, (255, 0, 255), 1)\n",
        "\n",
        "      # Detect smile and draw rectangle around it\n",
        "      smile = smile_classifier.detectMultiScale(roi_gray, 1.8, 20)\n",
        "      for (sx, sy, sw, sh) in smile:\n",
        "        cv2.rectangle(roi_color, (sx, sy), (sx+sw, sy+sh), (255, 0, 0), 2)\n",
        "      \n",
        "      # Save the new video\n",
        "    out.write(frame)\n",
        "    print(\"Out!\")\n",
        "  else:\n",
        "    break\n",
        "\n",
        "# Close all opened files and save them\n",
        "cap.release()\n",
        "out.release()\n",
        "cv2.destroyAllWindows()"
      ],
      "metadata": {
        "id": "AAd4RBGaftPK"
      },
      "execution_count": 3,
      "outputs": []
    }
  ]
}