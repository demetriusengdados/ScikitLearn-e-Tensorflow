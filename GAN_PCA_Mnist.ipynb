{
  "nbformat": 4,
  "nbformat_minor": 0,
  "metadata": {
    "colab": {
      "provenance": []
    },
    "kernelspec": {
      "name": "python3",
      "display_name": "Python 3"
    },
    "language_info": {
      "name": "python"
    }
  },
  "cells": [
    {
      "cell_type": "code",
      "execution_count": 1,
      "metadata": {
        "id": "7mLhU-aRddMF"
      },
      "outputs": [],
      "source": [
        "# General libraries\n",
        "import numpy as np\n",
        "import tensorflow as tf\n",
        "import matplotlib.pyplot as plt\n",
        "# Libraries for autoencoding\n",
        "from tensorflow.keras import datasets\n",
        "from tensorflow.keras.optimizers import SGD \n",
        "from tensorflow.keras.models import Sequential\n",
        "from tensorflow.keras.layers import Dense, Flatten, Reshape\n",
        "# Libraries for PCA\n",
        "from sklearn.decomposition import PCA\n",
        "from sklearn.preprocessing import StandardScaler"
      ]
    },
    {
      "cell_type": "code",
      "source": [
        "# Importing the image data and normalizing\n",
        "(X_train, y_train), (X_test, y_test) = datasets.mnist.load_data()\n",
        "X_train, X_test = X_train / 255.0, X_test / 255.0"
      ],
      "metadata": {
        "colab": {
          "base_uri": "https://localhost:8080/"
        },
        "id": "69ZzfhB7dj_X",
        "outputId": "18a578d9-c202-47cc-a68d-81bd5721bc44"
      },
      "execution_count": 2,
      "outputs": [
        {
          "output_type": "stream",
          "name": "stdout",
          "text": [
            "Downloading data from https://storage.googleapis.com/tensorflow/tf-keras-datasets/mnist.npz\n",
            "11493376/11490434 [==============================] - 0s 0us/step\n",
            "11501568/11490434 [==============================] - 0s 0us/step\n"
          ]
        }
      ]
    },
    {
      "cell_type": "code",
      "source": [
        "# Try different sizes!\n",
        "size_hidden_layer = 20"
      ],
      "metadata": {
        "id": "lKCQo0jsdoqo"
      },
      "execution_count": 3,
      "outputs": []
    },
    {
      "cell_type": "code",
      "source": [
        "# Encoder with just one hidden layer\n",
        "class Encoder(Sequential):\n",
        "    def __init__(self):\n",
        "        super().__init__()\n",
        "\n",
        "        self.add(Flatten(input_shape=(28, 28)))\n",
        "        self.add(Dense(size_hidden_layer, activation='relu'))"
      ],
      "metadata": {
        "id": "N5eHNEJLdsbd"
      },
      "execution_count": 4,
      "outputs": []
    },
    {
      "cell_type": "code",
      "source": [
        "# Decoder with a dense layer with 28x28 units.\n",
        "class Decoder(Sequential):\n",
        "    def __init__(self):\n",
        "        super().__init__()\n",
        "\n",
        "        self.add(Dense(784,   activation='sigmoid',\n",
        "                       input_shape=[size_hidden_layer]))\n",
        "        self.add(Reshape([28, 28]))"
      ],
      "metadata": {
        "id": "AiqpowBydxRN"
      },
      "execution_count": 5,
      "outputs": []
    },
    {
      "cell_type": "code",
      "source": [
        "encoder = Encoder()\n",
        "decoder = Decoder()"
      ],
      "metadata": {
        "id": "jcj3SZ8xd0us"
      },
      "execution_count": 6,
      "outputs": []
    },
    {
      "cell_type": "code",
      "source": [
        "# Autoencoder can be created as a sequential model with\n",
        "# encoder and decoder.\n",
        "autoencoder = Sequential([encoder, decoder])\n",
        "\n",
        "autoencoder.compile(loss= 'mean_squared_error',\n",
        "                    optimizer= SGD(1.5),\n",
        "                    metrics=['accuracy'])"
      ],
      "metadata": {
        "id": "vrC90pCjd4Jz"
      },
      "execution_count": 7,
      "outputs": []
    },
    {
      "cell_type": "code",
      "source": [
        "# Note that here X_test is not obligatory.\n",
        "autoencoder_hidden_layer_results = autoencoder.fit(X_train, X_train,\n",
        "                                                   epochs= 5)"
      ],
      "metadata": {
        "colab": {
          "base_uri": "https://localhost:8080/"
        },
        "id": "7iTgVirCd72k",
        "outputId": "f0c60b6c-ba8a-475e-dd37-a33bc29648de"
      },
      "execution_count": 8,
      "outputs": [
        {
          "output_type": "stream",
          "name": "stdout",
          "text": [
            "Epoch 1/5\n",
            "1875/1875 [==============================] - 3s 1ms/step - loss: 0.0656 - accuracy: 0.1033\n",
            "Epoch 2/5\n",
            "1875/1875 [==============================] - 2s 1ms/step - loss: 0.0421 - accuracy: 0.1712\n",
            "Epoch 3/5\n",
            "1875/1875 [==============================] - 2s 1ms/step - loss: 0.0346 - accuracy: 0.1987\n",
            "Epoch 4/5\n",
            "1875/1875 [==============================] - 2s 1ms/step - loss: 0.0306 - accuracy: 0.2097\n",
            "Epoch 5/5\n",
            "1875/1875 [==============================] - 2s 1ms/step - loss: 0.0278 - accuracy: 0.2175\n"
          ]
        }
      ]
    },
    {
      "cell_type": "code",
      "source": [
        "# Prediction for the first 10 images\n",
        "X_rec_autoencoder = autoencoder.predict(X_test[:10])\n",
        "# This will show the difference between the prediction\n",
        "# and the original data\n",
        "diff_autoencoder = X_rec_autoencoder - X_test[:10]"
      ],
      "metadata": {
        "id": "W-JG8o_eeFsd"
      },
      "execution_count": 9,
      "outputs": []
    },
    {
      "cell_type": "code",
      "source": [
        "X_train = X_train.reshape([X_train.shape[0], X_train.shape[1] * X_train.shape[2]])\n",
        "X_test = X_test.reshape([X_test.shape[0], X_test.shape[1] * X_test.shape[2]])"
      ],
      "metadata": {
        "id": "Tn7xDEoIeIve"
      },
      "execution_count": 10,
      "outputs": []
    },
    {
      "cell_type": "code",
      "source": [
        "n_components = 20\n",
        "\n",
        "pca = PCA(n_components=n_components)\n",
        "pca.fit(X_train)\n",
        "\n",
        "num_elements = X_test.shape[0]\n",
        "X_test_PCA = pca.fit_transform(X_test)"
      ],
      "metadata": {
        "id": "KQSJOKt8eKek"
      },
      "execution_count": 11,
      "outputs": []
    },
    {
      "cell_type": "code",
      "source": [
        "X_rec_pca = pca.inverse_transform(X_test_PCA)"
      ],
      "metadata": {
        "id": "H4gbeboreO9k"
      },
      "execution_count": 12,
      "outputs": []
    },
    {
      "cell_type": "code",
      "source": [
        "X_rec_pca = np.reshape(X_rec_pca[:10], (10,28,28))\n",
        "X_test = np.reshape(X_test[:10], (10,28,28))\n",
        "# This will show the difference between the prediction\n",
        "# and the original data\n",
        "diff_pca = X_rec_pca - X_test"
      ],
      "metadata": {
        "id": "k_AfDHkceT2m"
      },
      "execution_count": 13,
      "outputs": []
    },
    {
      "cell_type": "code",
      "source": [
        "# Function for plotting the data and results\n",
        "def plotter(data, title):\n",
        "    fig = plt.figure(figsize=(12, 6))\n",
        "    fig.subplots_adjust(left=0, right=1, bottom=0, top=1, hspace=0.05, wspace=0.05)\n",
        "    for i in range(10):\n",
        "        ax = fig.add_subplot(1, 10, i + 1, xticks=[], yticks=[])\n",
        "        ax.imshow(data[i], \n",
        "                cmap=plt.cm.binary, interpolation='nearest')\n",
        "    ax.yaxis.set_label_position(\"right\")\n",
        "    ax.set_ylabel(title, fontsize='medium')"
      ],
      "metadata": {
        "id": "Ojr_iggreW1M"
      },
      "execution_count": 14,
      "outputs": []
    },
    {
      "cell_type": "code",
      "source": [
        "# Now let's see how the predictions look\n",
        "# Along with the difference from the original\n",
        "plotter(X_test,'X_test')\n",
        "plotter(X_rec_autoencoder,'Autoencoder')\n",
        "plotter(X_rec_pca,'PCA')"
      ],
      "metadata": {
        "colab": {
          "base_uri": "https://localhost:8080/",
          "height": 317
        },
        "id": "-RT8fzF3eZ-K",
        "outputId": "24081ec4-fa6d-4f47-cdfc-d03156b3b923"
      },
      "execution_count": 15,
      "outputs": [
        {
          "output_type": "display_data",
          "data": {
            "text/plain": [
              "<Figure size 864x432 with 10 Axes>"
            ],
            "image/png": "[encoded data removed]"
          },
          "metadata": {}
        },
        {
          "output_type": "display_data",
          "data": {
            "text/plain": [
              "<Figure size 864x432 with 10 Axes>"
            ],
            "image/png": "[encoded data removed]"
          },
          "metadata": {}
        },
        {
          "output_type": "display_data",
          "data": {
            "text/plain": [
              "<Figure size 864x432 with 10 Axes>"
            ],
            "image/png": "[encoded data removed]"
          },
          "metadata": {}
        }
      ]
    }
  ]
}